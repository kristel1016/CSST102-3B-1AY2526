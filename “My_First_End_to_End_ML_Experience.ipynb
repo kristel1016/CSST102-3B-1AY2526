{
  "nbformat": 4,
  "nbformat_minor": 0,
  "metadata": {
    "colab": {
      "provenance": []
    },
    "kernelspec": {
      "name": "python3",
      "display_name": "Python 3"
    },
    "language_info": {
      "name": "python"
    }
  },
  "cells": [
    {
      "cell_type": "markdown",
      "source": [
        "**My First End-to-End ML Experience**\n",
        "\n",
        "Doing my first end-to-end machine learning project helped me understand how every step connects to make the final model work. I learned that data loading and exploration are important because they help me see the structure of the dataset and find problems like missing values or outliers. Preprocessing, such as cleaning and scaling data, is also important because different models need data in different formats. I realized that even small steps like checking for outliers or scaling can affect the accuracy of the model. This made me appreciate how important it is to prepare the data properly before training the models.\n",
        "\n",
        "The most challenging part of this project was handling outliers and deciding what preprocessing steps to apply to each model. Outliers can make the model less accurate, so I used the z-score method to remove extreme values. I also learned that Linear Regression performs better when the data is scaled, while Random Forest doesn’t really need it. It was tricky at first, but comparing the results helped me understand the strengths and weaknesses of each model. This part of the project taught me patience and attention to detail when working with data.\n",
        "\n",
        "One real-world example where this project could be applied is predicting house prices. The same process of collecting, cleaning, and training models can be used to estimate the value of homes based on features like location, number of rooms, and neighborhood quality. I think this kind of machine learning project can also help businesses make smarter decisions using data. Overall, this experience helped me see how important it is to have clean data and test different models to find the best one. In the future, I would like to explore advanced techniques like cross-validation and hyperparameter tuning to make the models even more accurate."
      ],
      "metadata": {
        "id": "1raZmKsnLyJS"
      }
    }
  ]
}